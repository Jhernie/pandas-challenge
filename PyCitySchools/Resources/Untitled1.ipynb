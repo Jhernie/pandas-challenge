{
 "cells": [
  {
   "cell_type": "code",
   "execution_count": 4,
   "id": "22cf8b20-9690-43a2-9230-f86156d7f9cc",
   "metadata": {},
   "outputs": [
    {
     "data": {
      "text/plain": [
       "<matplotlib.collections.PathCollection at 0x7fe2ffe84b20>"
      ]
     },
     "execution_count": 4,
     "metadata": {},
     "output_type": "execute_result"
    },
    {
     "data": {
      "image/png": "[encoded data removed]",
      "text/plain": [
       "<Figure size 432x288 with 1 Axes>"
      ]
     },
     "metadata": {
      "needs_background": "light"
     },
     "output_type": "display_data"
    }
   ],
   "source": [
    "import matplotlib.pyplot as plt\n",
    "\n",
    "from pandas import DataFrame\n",
    "from random import randint\n",
    "\n",
    "def sample_df(n=50):\n",
    "    return DataFrame({\n",
    "        \"x\": [i for i in range(n)],\n",
    "        \"y\": [randint(-10, 10) for _ in range(n)]\n",
    "    })\n",
    "\n",
    "df = sample_df()\n",
    "\n",
    "plt.scatter(df[\"x\"], df[\"y\"]) "
   ]
  },
  {
   "cell_type": "code",
   "execution_count": null,
   "id": "868d2dc5-0559-4030-9150-856b73313e57",
   "metadata": {},
   "outputs": [],
   "source": []
  }
 ],
 "metadata": {
  "kernelspec": {
   "display_name": "Python 3 (ipykernel)",
   "language": "python",
   "name": "python3"
  },
  "language_info": {
   "codemirror_mode": {
    "name": "ipython",
    "version": 3
   },
   "file_extension": ".py",
   "mimetype": "text/x-python",
   "name": "python",
   "nbconvert_exporter": "python",
   "pygments_lexer": "ipython3",
   "version": "3.9.12"
  }
 },
 "nbformat": 4,
 "nbformat_minor": 5
}
